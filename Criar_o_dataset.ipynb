{
  "nbformat": 4,
  "nbformat_minor": 0,
  "metadata": {
    "colab": {
      "provenance": [],
      "mount_file_id": "1zgQHYdCw_xGq3-G-A0kVhMNFZV2K7obF",
      "authorship_tag": "ABX9TyPtwUFBeb7TVr9dOlRQAYtJ"
    },
    "kernelspec": {
      "name": "python3",
      "display_name": "Python 3"
    },
    "language_info": {
      "name": "python"
    }
  },
  "cells": [
    {
      "cell_type": "markdown",
      "source": [
        "## Criar o dataset"
      ],
      "metadata": {
        "id": "DMZ8uzfaK0J6"
      }
    },
    {
      "cell_type": "markdown",
      "source": [
        "O objetivo dessa etapa é construir um dataset próprio que contenha uma amostra aleatória dos reviews. Trabalhar com uma dataset muito grande exige muito esforço e custa muito computacionalmente. É possível trabalhar de forma mais eficiente com um corpus* reduzido, desde que a redução não seja feita de forma arbitrária, precisando ser uma amostra aleatória.\n",
        "\n",
        "> Um corpus é um conjunto de textos que são usados como base de dados em estudos linguísticos, análises de texto, tradução automática, processamento de linguagem natural e outras áreas relacionadas. O objetivo principal de um corpus é fornecer uma amostra representativa da linguagem para análise e estudo. Ele pode ser usado para identificar padrões linguísticos, examinar mudanças na língua ao longo do tempo, desenvolver algoritmos de processamento de linguagem natural e criar recursos linguísticos, como dicionários, ontologias e etiquetas de partes do discurso.\n",
        "\n",
        "Serão construídos dois corpus: um menor e balanceado e outro maior e mais aleatório. O primeiro é usado para treinar e testar o modelo para solucionar o problema em questão. Após isso, o segundo corpus é usado para simular novas reviews, porém já classificadas. Ou seja, o modelo irá classificar os reviews do corpus maior usando o modelo treinado usando os dados do corpus menos."
      ],
      "metadata": {
        "id": "skLuefINK1JJ"
      }
    },
    {
      "cell_type": "code",
      "execution_count": 21,
      "metadata": {
        "id": "1aiShW9tKwqD"
      },
      "outputs": [],
      "source": [
        "import gzip\n",
        "import json\n",
        "import pandas as pd\n",
        "import numpy as np\n",
        "import seaborn as sns\n",
        "import matplotlib.pyplot as plt\n",
        "from imblearn.under_sampling import RandomUnderSampler\n",
        "import altair"
      ]
    },
    {
      "cell_type": "code",
      "source": [
        "jsonfilename = '/content/drive/MyDrive/Data Science/Portfólio/Pet_Supplies_5.json.gz'"
      ],
      "metadata": {
        "id": "IfUrw7oMLHRZ"
      },
      "execution_count": 22,
      "outputs": []
    },
    {
      "cell_type": "code",
      "source": [
        "def parse(path):\n",
        "  g = gzip.open(path, 'rb')\n",
        "  for l in g:\n",
        "    yield json.loads(l)\n",
        "\n",
        "def getDF(path):\n",
        "  i = 0\n",
        "  df = {}\n",
        "  for d in parse(path):\n",
        "    df[i] = d\n",
        "    i += 1\n",
        "  return pd.DataFrame.from_dict(df, orient='index')\n",
        "\n",
        "df = getDF(jsonfilename)"
      ],
      "metadata": {
        "id": "CfdJ4xwnLIwp"
      },
      "execution_count": 23,
      "outputs": []
    },
    {
      "cell_type": "code",
      "source": [
        "df.head()"
      ],
      "metadata": {
        "colab": {
          "base_uri": "https://localhost:8080/",
          "height": 466
        },
        "id": "YJ81nrZ9LKRi",
        "outputId": "9635c8af-aed7-41b3-dd2c-5a800946fb2e"
      },
      "execution_count": 24,
      "outputs": [
        {
          "output_type": "execute_result",
          "data": {
            "text/plain": [
              "   overall vote  verified   reviewTime      reviewerID        asin  \\\n",
              "0      3.0    2      True   12 2, 2016  A2KN4FJVI2TZSF  0972585419   \n",
              "1      3.0  NaN      True  10 17, 2016  A3RMA1DD66JDRV  0972585419   \n",
              "2      5.0    2      True   09 9, 2016   AAANYRIEOIT3R  0972585419   \n",
              "3      3.0  NaN      True  08 31, 2016  A3W44VX0LXAOHU  0972585419   \n",
              "4      2.0  NaN      True  08 18, 2016  A16ZDBZGKYDRSU  0972585419   \n",
              "\n",
              "     reviewerName                                         reviewText  \\\n",
              "0            M.G.  I purchased this cd for my Pocket Parrot. It h...   \n",
              "1        Susan P.  Maybe it's just my Amazon parrot, but she's no...   \n",
              "2   Luggie Lugnut  I bought this to help me teach my blue quaker ...   \n",
              "3  Melissa Partin                  Bird showed no interest in it....   \n",
              "4    Cheryle Bell  Didn't do a thing for my African Grey! He hate...   \n",
              "\n",
              "                                             summary  unixReviewTime style  \\\n",
              "0                                          It's okay      1480636800   NaN   \n",
              "1                 It might work for a different bird      1476662400   NaN   \n",
              "2  I bought this to help me teach my blue quaker ...      1473379200   NaN   \n",
              "3                                        Three Stars      1472601600   NaN   \n",
              "4              He hated it and it was very obnoxious      1471478400   NaN   \n",
              "\n",
              "  image  \n",
              "0   NaN  \n",
              "1   NaN  \n",
              "2   NaN  \n",
              "3   NaN  \n",
              "4   NaN  "
            ],
            "text/html": [
              "\n",
              "  <div id=\"df-0c09b060-f079-40a3-adfb-f0faa937fe96\" class=\"colab-df-container\">\n",
              "    <div>\n",
              "<style scoped>\n",
              "    .dataframe tbody tr th:only-of-type {\n",
              "        vertical-align: middle;\n",
              "    }\n",
              "\n",
              "    .dataframe tbody tr th {\n",
              "        vertical-align: top;\n",
              "    }\n",
              "\n",
              "    .dataframe thead th {\n",
              "        text-align: right;\n",
              "    }\n",
              "</style>\n",
              "<table border=\"1\" class=\"dataframe\">\n",
              "  <thead>\n",
              "    <tr style=\"text-align: right;\">\n",
              "      <th></th>\n",
              "      <th>overall</th>\n",
              "      <th>vote</th>\n",
              "      <th>verified</th>\n",
              "      <th>reviewTime</th>\n",
              "      <th>reviewerID</th>\n",
              "      <th>asin</th>\n",
              "      <th>reviewerName</th>\n",
              "      <th>reviewText</th>\n",
              "      <th>summary</th>\n",
              "      <th>unixReviewTime</th>\n",
              "      <th>style</th>\n",
              "      <th>image</th>\n",
              "    </tr>\n",
              "  </thead>\n",
              "  <tbody>\n",
              "    <tr>\n",
              "      <th>0</th>\n",
              "      <td>3.0</td>\n",
              "      <td>2</td>\n",
              "      <td>True</td>\n",
              "      <td>12 2, 2016</td>\n",
              "      <td>A2KN4FJVI2TZSF</td>\n",
              "      <td>0972585419</td>\n",
              "      <td>M.G.</td>\n",
              "      <td>I purchased this cd for my Pocket Parrot. It h...</td>\n",
              "      <td>It's okay</td>\n",
              "      <td>1480636800</td>\n",
              "      <td>NaN</td>\n",
              "      <td>NaN</td>\n",
              "    </tr>\n",
              "    <tr>\n",
              "      <th>1</th>\n",
              "      <td>3.0</td>\n",
              "      <td>NaN</td>\n",
              "      <td>True</td>\n",
              "      <td>10 17, 2016</td>\n",
              "      <td>A3RMA1DD66JDRV</td>\n",
              "      <td>0972585419</td>\n",
              "      <td>Susan P.</td>\n",
              "      <td>Maybe it's just my Amazon parrot, but she's no...</td>\n",
              "      <td>It might work for a different bird</td>\n",
              "      <td>1476662400</td>\n",
              "      <td>NaN</td>\n",
              "      <td>NaN</td>\n",
              "    </tr>\n",
              "    <tr>\n",
              "      <th>2</th>\n",
              "      <td>5.0</td>\n",
              "      <td>2</td>\n",
              "      <td>True</td>\n",
              "      <td>09 9, 2016</td>\n",
              "      <td>AAANYRIEOIT3R</td>\n",
              "      <td>0972585419</td>\n",
              "      <td>Luggie Lugnut</td>\n",
              "      <td>I bought this to help me teach my blue quaker ...</td>\n",
              "      <td>I bought this to help me teach my blue quaker ...</td>\n",
              "      <td>1473379200</td>\n",
              "      <td>NaN</td>\n",
              "      <td>NaN</td>\n",
              "    </tr>\n",
              "    <tr>\n",
              "      <th>3</th>\n",
              "      <td>3.0</td>\n",
              "      <td>NaN</td>\n",
              "      <td>True</td>\n",
              "      <td>08 31, 2016</td>\n",
              "      <td>A3W44VX0LXAOHU</td>\n",
              "      <td>0972585419</td>\n",
              "      <td>Melissa Partin</td>\n",
              "      <td>Bird showed no interest in it....</td>\n",
              "      <td>Three Stars</td>\n",
              "      <td>1472601600</td>\n",
              "      <td>NaN</td>\n",
              "      <td>NaN</td>\n",
              "    </tr>\n",
              "    <tr>\n",
              "      <th>4</th>\n",
              "      <td>2.0</td>\n",
              "      <td>NaN</td>\n",
              "      <td>True</td>\n",
              "      <td>08 18, 2016</td>\n",
              "      <td>A16ZDBZGKYDRSU</td>\n",
              "      <td>0972585419</td>\n",
              "      <td>Cheryle Bell</td>\n",
              "      <td>Didn't do a thing for my African Grey! He hate...</td>\n",
              "      <td>He hated it and it was very obnoxious</td>\n",
              "      <td>1471478400</td>\n",
              "      <td>NaN</td>\n",
              "      <td>NaN</td>\n",
              "    </tr>\n",
              "  </tbody>\n",
              "</table>\n",
              "</div>\n",
              "    <div class=\"colab-df-buttons\">\n",
              "\n",
              "  <div class=\"colab-df-container\">\n",
              "    <button class=\"colab-df-convert\" onclick=\"convertToInteractive('df-0c09b060-f079-40a3-adfb-f0faa937fe96')\"\n",
              "            title=\"Convert this dataframe to an interactive table.\"\n",
              "            style=\"display:none;\">\n",
              "\n",
              "  <svg xmlns=\"http://www.w3.org/2000/svg\" height=\"24px\" viewBox=\"0 -960 960 960\">\n",
              "    <path d=\"M120-120v-720h720v720H120Zm60-500h600v-160H180v160Zm220 220h160v-160H400v160Zm0 220h160v-160H400v160ZM180-400h160v-160H180v160Zm440 0h160v-160H620v160ZM180-180h160v-160H180v160Zm440 0h160v-160H620v160Z\"/>\n",
              "  </svg>\n",
              "    </button>\n",
              "\n",
              "  <style>\n",
              "    .colab-df-container {\n",
              "      display:flex;\n",
              "      gap: 12px;\n",
              "    }\n",
              "\n",
              "    .colab-df-convert {\n",
              "      background-color: #E8F0FE;\n",
              "      border: none;\n",
              "      border-radius: 50%;\n",
              "      cursor: pointer;\n",
              "      display: none;\n",
              "      fill: #1967D2;\n",
              "      height: 32px;\n",
              "      padding: 0 0 0 0;\n",
              "      width: 32px;\n",
              "    }\n",
              "\n",
              "    .colab-df-convert:hover {\n",
              "      background-color: #E2EBFA;\n",
              "      box-shadow: 0px 1px 2px rgba(60, 64, 67, 0.3), 0px 1px 3px 1px rgba(60, 64, 67, 0.15);\n",
              "      fill: #174EA6;\n",
              "    }\n",
              "\n",
              "    .colab-df-buttons div {\n",
              "      margin-bottom: 4px;\n",
              "    }\n",
              "\n",
              "    [theme=dark] .colab-df-convert {\n",
              "      background-color: #3B4455;\n",
              "      fill: #D2E3FC;\n",
              "    }\n",
              "\n",
              "    [theme=dark] .colab-df-convert:hover {\n",
              "      background-color: #434B5C;\n",
              "      box-shadow: 0px 1px 3px 1px rgba(0, 0, 0, 0.15);\n",
              "      filter: drop-shadow(0px 1px 2px rgba(0, 0, 0, 0.3));\n",
              "      fill: #FFFFFF;\n",
              "    }\n",
              "  </style>\n",
              "\n",
              "    <script>\n",
              "      const buttonEl =\n",
              "        document.querySelector('#df-0c09b060-f079-40a3-adfb-f0faa937fe96 button.colab-df-convert');\n",
              "      buttonEl.style.display =\n",
              "        google.colab.kernel.accessAllowed ? 'block' : 'none';\n",
              "\n",
              "      async function convertToInteractive(key) {\n",
              "        const element = document.querySelector('#df-0c09b060-f079-40a3-adfb-f0faa937fe96');\n",
              "        const dataTable =\n",
              "          await google.colab.kernel.invokeFunction('convertToInteractive',\n",
              "                                                    [key], {});\n",
              "        if (!dataTable) return;\n",
              "\n",
              "        const docLinkHtml = 'Like what you see? Visit the ' +\n",
              "          '<a target=\"_blank\" href=https://colab.research.google.com/notebooks/data_table.ipynb>data table notebook</a>'\n",
              "          + ' to learn more about interactive tables.';\n",
              "        element.innerHTML = '';\n",
              "        dataTable['output_type'] = 'display_data';\n",
              "        await google.colab.output.renderOutput(dataTable, element);\n",
              "        const docLink = document.createElement('div');\n",
              "        docLink.innerHTML = docLinkHtml;\n",
              "        element.appendChild(docLink);\n",
              "      }\n",
              "    </script>\n",
              "  </div>\n",
              "\n",
              "\n",
              "<div id=\"df-e8585674-9b26-49de-ae72-5983a8de3ea8\">\n",
              "  <button class=\"colab-df-quickchart\" onclick=\"quickchart('df-e8585674-9b26-49de-ae72-5983a8de3ea8')\"\n",
              "            title=\"Suggest charts\"\n",
              "            style=\"display:none;\">\n",
              "\n",
              "<svg xmlns=\"http://www.w3.org/2000/svg\" height=\"24px\"viewBox=\"0 0 24 24\"\n",
              "     width=\"24px\">\n",
              "    <g>\n",
              "        <path d=\"M19 3H5c-1.1 0-2 .9-2 2v14c0 1.1.9 2 2 2h14c1.1 0 2-.9 2-2V5c0-1.1-.9-2-2-2zM9 17H7v-7h2v7zm4 0h-2V7h2v10zm4 0h-2v-4h2v4z\"/>\n",
              "    </g>\n",
              "</svg>\n",
              "  </button>\n",
              "\n",
              "<style>\n",
              "  .colab-df-quickchart {\n",
              "      --bg-color: #E8F0FE;\n",
              "      --fill-color: #1967D2;\n",
              "      --hover-bg-color: #E2EBFA;\n",
              "      --hover-fill-color: #174EA6;\n",
              "      --disabled-fill-color: #AAA;\n",
              "      --disabled-bg-color: #DDD;\n",
              "  }\n",
              "\n",
              "  [theme=dark] .colab-df-quickchart {\n",
              "      --bg-color: #3B4455;\n",
              "      --fill-color: #D2E3FC;\n",
              "      --hover-bg-color: #434B5C;\n",
              "      --hover-fill-color: #FFFFFF;\n",
              "      --disabled-bg-color: #3B4455;\n",
              "      --disabled-fill-color: #666;\n",
              "  }\n",
              "\n",
              "  .colab-df-quickchart {\n",
              "    background-color: var(--bg-color);\n",
              "    border: none;\n",
              "    border-radius: 50%;\n",
              "    cursor: pointer;\n",
              "    display: none;\n",
              "    fill: var(--fill-color);\n",
              "    height: 32px;\n",
              "    padding: 0;\n",
              "    width: 32px;\n",
              "  }\n",
              "\n",
              "  .colab-df-quickchart:hover {\n",
              "    background-color: var(--hover-bg-color);\n",
              "    box-shadow: 0 1px 2px rgba(60, 64, 67, 0.3), 0 1px 3px 1px rgba(60, 64, 67, 0.15);\n",
              "    fill: var(--button-hover-fill-color);\n",
              "  }\n",
              "\n",
              "  .colab-df-quickchart-complete:disabled,\n",
              "  .colab-df-quickchart-complete:disabled:hover {\n",
              "    background-color: var(--disabled-bg-color);\n",
              "    fill: var(--disabled-fill-color);\n",
              "    box-shadow: none;\n",
              "  }\n",
              "\n",
              "  .colab-df-spinner {\n",
              "    border: 2px solid var(--fill-color);\n",
              "    border-color: transparent;\n",
              "    border-bottom-color: var(--fill-color);\n",
              "    animation:\n",
              "      spin 1s steps(1) infinite;\n",
              "  }\n",
              "\n",
              "  @keyframes spin {\n",
              "    0% {\n",
              "      border-color: transparent;\n",
              "      border-bottom-color: var(--fill-color);\n",
              "      border-left-color: var(--fill-color);\n",
              "    }\n",
              "    20% {\n",
              "      border-color: transparent;\n",
              "      border-left-color: var(--fill-color);\n",
              "      border-top-color: var(--fill-color);\n",
              "    }\n",
              "    30% {\n",
              "      border-color: transparent;\n",
              "      border-left-color: var(--fill-color);\n",
              "      border-top-color: var(--fill-color);\n",
              "      border-right-color: var(--fill-color);\n",
              "    }\n",
              "    40% {\n",
              "      border-color: transparent;\n",
              "      border-right-color: var(--fill-color);\n",
              "      border-top-color: var(--fill-color);\n",
              "    }\n",
              "    60% {\n",
              "      border-color: transparent;\n",
              "      border-right-color: var(--fill-color);\n",
              "    }\n",
              "    80% {\n",
              "      border-color: transparent;\n",
              "      border-right-color: var(--fill-color);\n",
              "      border-bottom-color: var(--fill-color);\n",
              "    }\n",
              "    90% {\n",
              "      border-color: transparent;\n",
              "      border-bottom-color: var(--fill-color);\n",
              "    }\n",
              "  }\n",
              "</style>\n",
              "\n",
              "  <script>\n",
              "    async function quickchart(key) {\n",
              "      const quickchartButtonEl =\n",
              "        document.querySelector('#' + key + ' button');\n",
              "      quickchartButtonEl.disabled = true;  // To prevent multiple clicks.\n",
              "      quickchartButtonEl.classList.add('colab-df-spinner');\n",
              "      try {\n",
              "        const charts = await google.colab.kernel.invokeFunction(\n",
              "            'suggestCharts', [key], {});\n",
              "      } catch (error) {\n",
              "        console.error('Error during call to suggestCharts:', error);\n",
              "      }\n",
              "      quickchartButtonEl.classList.remove('colab-df-spinner');\n",
              "      quickchartButtonEl.classList.add('colab-df-quickchart-complete');\n",
              "    }\n",
              "    (() => {\n",
              "      let quickchartButtonEl =\n",
              "        document.querySelector('#df-e8585674-9b26-49de-ae72-5983a8de3ea8 button');\n",
              "      quickchartButtonEl.style.display =\n",
              "        google.colab.kernel.accessAllowed ? 'block' : 'none';\n",
              "    })();\n",
              "  </script>\n",
              "</div>\n",
              "\n",
              "    </div>\n",
              "  </div>\n"
            ],
            "application/vnd.google.colaboratory.intrinsic+json": {
              "type": "dataframe",
              "variable_name": "df"
            }
          },
          "metadata": {},
          "execution_count": 24
        }
      ]
    },
    {
      "cell_type": "markdown",
      "source": [
        "### Dicionário dos Dados\n",
        "- reviewerID - ID do avaliador;\n",
        "- asin - ID do produto;\n",
        "- reviewerName - Nome do avaliador;\n",
        "- vote - Nota dada para avaliação;\n",
        "- style - Detalhes do produto;\n",
        "- reviewText - Texto do review;\n",
        "- overall - Nota do produto\n",
        "- summary - Resumo do review\n",
        "- unixReviewTime - Hora do Review (unix time)\n",
        "- reviewTime - Hora do Review (raw)\n",
        "- image - Imagens postadas pelos usuários após a chegada do produto;"
      ],
      "metadata": {
        "id": "mLXW3Io3LNCx"
      }
    },
    {
      "cell_type": "code",
      "source": [
        "df.shape"
      ],
      "metadata": {
        "colab": {
          "base_uri": "https://localhost:8080/"
        },
        "id": "AcRi0hy_LL-B",
        "outputId": "35bb9495-f8d8-4078-f952-1baefb55d2b8"
      },
      "execution_count": 25,
      "outputs": [
        {
          "output_type": "execute_result",
          "data": {
            "text/plain": [
              "(2098325, 12)"
            ]
          },
          "metadata": {},
          "execution_count": 25
        }
      ]
    },
    {
      "cell_type": "code",
      "source": [
        "df.info()"
      ],
      "metadata": {
        "colab": {
          "base_uri": "https://localhost:8080/"
        },
        "id": "euSjXrOXLPRQ",
        "outputId": "a5aec094-1f73-4dce-b063-4a75c068d6d4"
      },
      "execution_count": 26,
      "outputs": [
        {
          "output_type": "stream",
          "name": "stdout",
          "text": [
            "<class 'pandas.core.frame.DataFrame'>\n",
            "Int64Index: 2098325 entries, 0 to 2098324\n",
            "Data columns (total 12 columns):\n",
            " #   Column          Dtype  \n",
            "---  ------          -----  \n",
            " 0   overall         float64\n",
            " 1   vote            object \n",
            " 2   verified        bool   \n",
            " 3   reviewTime      object \n",
            " 4   reviewerID      object \n",
            " 5   asin            object \n",
            " 6   reviewerName    object \n",
            " 7   reviewText      object \n",
            " 8   summary         object \n",
            " 9   unixReviewTime  int64  \n",
            " 10  style           object \n",
            " 11  image           object \n",
            "dtypes: bool(1), float64(1), int64(1), object(9)\n",
            "memory usage: 194.1+ MB\n"
          ]
        }
      ]
    },
    {
      "cell_type": "code",
      "source": [
        "df.isnull().sum()"
      ],
      "metadata": {
        "colab": {
          "base_uri": "https://localhost:8080/"
        },
        "id": "dTs8jw0aLQ5A",
        "outputId": "cc24608d-e288-4acf-9142-8c2359d67ea6"
      },
      "execution_count": 27,
      "outputs": [
        {
          "output_type": "execute_result",
          "data": {
            "text/plain": [
              "overall                 0\n",
              "vote              1850700\n",
              "verified                0\n",
              "reviewTime              0\n",
              "reviewerID              0\n",
              "asin                    0\n",
              "reviewerName           85\n",
              "reviewText            649\n",
              "summary               416\n",
              "unixReviewTime          0\n",
              "style              661607\n",
              "image             2032573\n",
              "dtype: int64"
            ]
          },
          "metadata": {},
          "execution_count": 27
        }
      ]
    },
    {
      "cell_type": "code",
      "source": [
        "df = df.dropna(subset='reviewText').reset_index(drop=True)"
      ],
      "metadata": {
        "id": "6Qv2rOIoLSTJ"
      },
      "execution_count": 28,
      "outputs": []
    },
    {
      "cell_type": "markdown",
      "source": [
        "### Distribuição de Notas\n",
        "\n",
        "Percebe-se um alto volume de notas 5, representando mais do que 50% das avaliações totais. A nota com menor frequência é a 2."
      ],
      "metadata": {
        "id": "fvsCSqv7LUS6"
      }
    },
    {
      "cell_type": "code",
      "source": [
        "ax = df['overall'].value_counts().sort_index()\\\n",
        "    .plot(kind='bar',\n",
        "          title= 'Quantidade de Reviews por nota',\n",
        "          figsize = (10,5))\n",
        "\n",
        "ax.set_xlabel('Nota do Review')\n",
        "plt.show()"
      ],
      "metadata": {
        "colab": {
          "base_uri": "https://localhost:8080/",
          "height": 495
        },
        "id": "DRZLUBHYLU4U",
        "outputId": "46dd30f9-aeac-4943-d71d-237d31edd6ce"
      },
      "execution_count": 29,
      "outputs": [
        {
          "output_type": "display_data",
          "data": {
            "text/plain": [
              "<Figure size 1000x500 with 1 Axes>"
            ],
            "image/png": "[encoded data removed]"
          },
          "metadata": {}
        }
      ]
    },
    {
      "cell_type": "markdown",
      "source": [
        "### Produtos\n",
        "O dataframe contém 2.098.325 avaliações, distribuídas para 42.531 produtos distintos."
      ],
      "metadata": {
        "id": "ZSNeykD9LXry"
      }
    },
    {
      "cell_type": "code",
      "source": [
        "df['asin'].nunique()"
      ],
      "metadata": {
        "colab": {
          "base_uri": "https://localhost:8080/"
        },
        "id": "ezLvwxatLYQZ",
        "outputId": "f0b753e0-d193-4618-dd66-43fbde0bd9f4"
      },
      "execution_count": 30,
      "outputs": [
        {
          "output_type": "execute_result",
          "data": {
            "text/plain": [
              "42531"
            ]
          },
          "metadata": {},
          "execution_count": 30
        }
      ]
    },
    {
      "cell_type": "markdown",
      "source": [
        "### Amostra balanceada de Reviews\n",
        "Serão separadas amostras de reviews seguindo a distribuição:\n",
        "- 1500 reviews para avaliações nota 1.\n",
        "- 500-500-500 para avaliações 2, 3 e 4.\n",
        "- Para avaliações nota 5, também serão separadas 1500.\n",
        "\n",
        "Dessa forma teremos um 'corpus' menor, mas balanceado;\n"
      ],
      "metadata": {
        "id": "EMNymceLLZWp"
      }
    },
    {
      "cell_type": "code",
      "source": [
        "df_reviews = df[['overall', 'reviewText']].reset_index(drop=True)\n",
        "df_reviews.head()"
      ],
      "metadata": {
        "colab": {
          "base_uri": "https://localhost:8080/",
          "height": 206
        },
        "id": "0Bh6wJetLcMB",
        "outputId": "bdb5361d-5eba-405f-c96d-5f7acf8ea12b"
      },
      "execution_count": 31,
      "outputs": [
        {
          "output_type": "execute_result",
          "data": {
            "text/plain": [
              "   overall                                         reviewText\n",
              "0      3.0  I purchased this cd for my Pocket Parrot. It h...\n",
              "1      3.0  Maybe it's just my Amazon parrot, but she's no...\n",
              "2      5.0  I bought this to help me teach my blue quaker ...\n",
              "3      3.0                  Bird showed no interest in it....\n",
              "4      2.0  Didn't do a thing for my African Grey! He hate..."
            ],
            "text/html": [
              "\n",
              "  <div id=\"df-0baab0aa-0ae7-47b3-b1ef-6a4613fcf99b\" class=\"colab-df-container\">\n",
              "    <div>\n",
              "<style scoped>\n",
              "    .dataframe tbody tr th:only-of-type {\n",
              "        vertical-align: middle;\n",
              "    }\n",
              "\n",
              "    .dataframe tbody tr th {\n",
              "        vertical-align: top;\n",
              "    }\n",
              "\n",
              "    .dataframe thead th {\n",
              "        text-align: right;\n",
              "    }\n",
              "</style>\n",
              "<table border=\"1\" class=\"dataframe\">\n",
              "  <thead>\n",
              "    <tr style=\"text-align: right;\">\n",
              "      <th></th>\n",
              "      <th>overall</th>\n",
              "      <th>reviewText</th>\n",
              "    </tr>\n",
              "  </thead>\n",
              "  <tbody>\n",
              "    <tr>\n",
              "      <th>0</th>\n",
              "      <td>3.0</td>\n",
              "      <td>I purchased this cd for my Pocket Parrot. It h...</td>\n",
              "    </tr>\n",
              "    <tr>\n",
              "      <th>1</th>\n",
              "      <td>3.0</td>\n",
              "      <td>Maybe it's just my Amazon parrot, but she's no...</td>\n",
              "    </tr>\n",
              "    <tr>\n",
              "      <th>2</th>\n",
              "      <td>5.0</td>\n",
              "      <td>I bought this to help me teach my blue quaker ...</td>\n",
              "    </tr>\n",
              "    <tr>\n",
              "      <th>3</th>\n",
              "      <td>3.0</td>\n",
              "      <td>Bird showed no interest in it....</td>\n",
              "    </tr>\n",
              "    <tr>\n",
              "      <th>4</th>\n",
              "      <td>2.0</td>\n",
              "      <td>Didn't do a thing for my African Grey! He hate...</td>\n",
              "    </tr>\n",
              "  </tbody>\n",
              "</table>\n",
              "</div>\n",
              "    <div class=\"colab-df-buttons\">\n",
              "\n",
              "  <div class=\"colab-df-container\">\n",
              "    <button class=\"colab-df-convert\" onclick=\"convertToInteractive('df-0baab0aa-0ae7-47b3-b1ef-6a4613fcf99b')\"\n",
              "            title=\"Convert this dataframe to an interactive table.\"\n",
              "            style=\"display:none;\">\n",
              "\n",
              "  <svg xmlns=\"http://www.w3.org/2000/svg\" height=\"24px\" viewBox=\"0 -960 960 960\">\n",
              "    <path d=\"M120-120v-720h720v720H120Zm60-500h600v-160H180v160Zm220 220h160v-160H400v160Zm0 220h160v-160H400v160ZM180-400h160v-160H180v160Zm440 0h160v-160H620v160ZM180-180h160v-160H180v160Zm440 0h160v-160H620v160Z\"/>\n",
              "  </svg>\n",
              "    </button>\n",
              "\n",
              "  <style>\n",
              "    .colab-df-container {\n",
              "      display:flex;\n",
              "      gap: 12px;\n",
              "    }\n",
              "\n",
              "    .colab-df-convert {\n",
              "      background-color: #E8F0FE;\n",
              "      border: none;\n",
              "      border-radius: 50%;\n",
              "      cursor: pointer;\n",
              "      display: none;\n",
              "      fill: #1967D2;\n",
              "      height: 32px;\n",
              "      padding: 0 0 0 0;\n",
              "      width: 32px;\n",
              "    }\n",
              "\n",
              "    .colab-df-convert:hover {\n",
              "      background-color: #E2EBFA;\n",
              "      box-shadow: 0px 1px 2px rgba(60, 64, 67, 0.3), 0px 1px 3px 1px rgba(60, 64, 67, 0.15);\n",
              "      fill: #174EA6;\n",
              "    }\n",
              "\n",
              "    .colab-df-buttons div {\n",
              "      margin-bottom: 4px;\n",
              "    }\n",
              "\n",
              "    [theme=dark] .colab-df-convert {\n",
              "      background-color: #3B4455;\n",
              "      fill: #D2E3FC;\n",
              "    }\n",
              "\n",
              "    [theme=dark] .colab-df-convert:hover {\n",
              "      background-color: #434B5C;\n",
              "      box-shadow: 0px 1px 3px 1px rgba(0, 0, 0, 0.15);\n",
              "      filter: drop-shadow(0px 1px 2px rgba(0, 0, 0, 0.3));\n",
              "      fill: #FFFFFF;\n",
              "    }\n",
              "  </style>\n",
              "\n",
              "    <script>\n",
              "      const buttonEl =\n",
              "        document.querySelector('#df-0baab0aa-0ae7-47b3-b1ef-6a4613fcf99b button.colab-df-convert');\n",
              "      buttonEl.style.display =\n",
              "        google.colab.kernel.accessAllowed ? 'block' : 'none';\n",
              "\n",
              "      async function convertToInteractive(key) {\n",
              "        const element = document.querySelector('#df-0baab0aa-0ae7-47b3-b1ef-6a4613fcf99b');\n",
              "        const dataTable =\n",
              "          await google.colab.kernel.invokeFunction('convertToInteractive',\n",
              "                                                    [key], {});\n",
              "        if (!dataTable) return;\n",
              "\n",
              "        const docLinkHtml = 'Like what you see? Visit the ' +\n",
              "          '<a target=\"_blank\" href=https://colab.research.google.com/notebooks/data_table.ipynb>data table notebook</a>'\n",
              "          + ' to learn more about interactive tables.';\n",
              "        element.innerHTML = '';\n",
              "        dataTable['output_type'] = 'display_data';\n",
              "        await google.colab.output.renderOutput(dataTable, element);\n",
              "        const docLink = document.createElement('div');\n",
              "        docLink.innerHTML = docLinkHtml;\n",
              "        element.appendChild(docLink);\n",
              "      }\n",
              "    </script>\n",
              "  </div>\n",
              "\n",
              "\n",
              "<div id=\"df-e0e0d9da-092a-4d79-8f7f-904ac43d77a9\">\n",
              "  <button class=\"colab-df-quickchart\" onclick=\"quickchart('df-e0e0d9da-092a-4d79-8f7f-904ac43d77a9')\"\n",
              "            title=\"Suggest charts\"\n",
              "            style=\"display:none;\">\n",
              "\n",
              "<svg xmlns=\"http://www.w3.org/2000/svg\" height=\"24px\"viewBox=\"0 0 24 24\"\n",
              "     width=\"24px\">\n",
              "    <g>\n",
              "        <path d=\"M19 3H5c-1.1 0-2 .9-2 2v14c0 1.1.9 2 2 2h14c1.1 0 2-.9 2-2V5c0-1.1-.9-2-2-2zM9 17H7v-7h2v7zm4 0h-2V7h2v10zm4 0h-2v-4h2v4z\"/>\n",
              "    </g>\n",
              "</svg>\n",
              "  </button>\n",
              "\n",
              "<style>\n",
              "  .colab-df-quickchart {\n",
              "      --bg-color: #E8F0FE;\n",
              "      --fill-color: #1967D2;\n",
              "      --hover-bg-color: #E2EBFA;\n",
              "      --hover-fill-color: #174EA6;\n",
              "      --disabled-fill-color: #AAA;\n",
              "      --disabled-bg-color: #DDD;\n",
              "  }\n",
              "\n",
              "  [theme=dark] .colab-df-quickchart {\n",
              "      --bg-color: #3B4455;\n",
              "      --fill-color: #D2E3FC;\n",
              "      --hover-bg-color: #434B5C;\n",
              "      --hover-fill-color: #FFFFFF;\n",
              "      --disabled-bg-color: #3B4455;\n",
              "      --disabled-fill-color: #666;\n",
              "  }\n",
              "\n",
              "  .colab-df-quickchart {\n",
              "    background-color: var(--bg-color);\n",
              "    border: none;\n",
              "    border-radius: 50%;\n",
              "    cursor: pointer;\n",
              "    display: none;\n",
              "    fill: var(--fill-color);\n",
              "    height: 32px;\n",
              "    padding: 0;\n",
              "    width: 32px;\n",
              "  }\n",
              "\n",
              "  .colab-df-quickchart:hover {\n",
              "    background-color: var(--hover-bg-color);\n",
              "    box-shadow: 0 1px 2px rgba(60, 64, 67, 0.3), 0 1px 3px 1px rgba(60, 64, 67, 0.15);\n",
              "    fill: var(--button-hover-fill-color);\n",
              "  }\n",
              "\n",
              "  .colab-df-quickchart-complete:disabled,\n",
              "  .colab-df-quickchart-complete:disabled:hover {\n",
              "    background-color: var(--disabled-bg-color);\n",
              "    fill: var(--disabled-fill-color);\n",
              "    box-shadow: none;\n",
              "  }\n",
              "\n",
              "  .colab-df-spinner {\n",
              "    border: 2px solid var(--fill-color);\n",
              "    border-color: transparent;\n",
              "    border-bottom-color: var(--fill-color);\n",
              "    animation:\n",
              "      spin 1s steps(1) infinite;\n",
              "  }\n",
              "\n",
              "  @keyframes spin {\n",
              "    0% {\n",
              "      border-color: transparent;\n",
              "      border-bottom-color: var(--fill-color);\n",
              "      border-left-color: var(--fill-color);\n",
              "    }\n",
              "    20% {\n",
              "      border-color: transparent;\n",
              "      border-left-color: var(--fill-color);\n",
              "      border-top-color: var(--fill-color);\n",
              "    }\n",
              "    30% {\n",
              "      border-color: transparent;\n",
              "      border-left-color: var(--fill-color);\n",
              "      border-top-color: var(--fill-color);\n",
              "      border-right-color: var(--fill-color);\n",
              "    }\n",
              "    40% {\n",
              "      border-color: transparent;\n",
              "      border-right-color: var(--fill-color);\n",
              "      border-top-color: var(--fill-color);\n",
              "    }\n",
              "    60% {\n",
              "      border-color: transparent;\n",
              "      border-right-color: var(--fill-color);\n",
              "    }\n",
              "    80% {\n",
              "      border-color: transparent;\n",
              "      border-right-color: var(--fill-color);\n",
              "      border-bottom-color: var(--fill-color);\n",
              "    }\n",
              "    90% {\n",
              "      border-color: transparent;\n",
              "      border-bottom-color: var(--fill-color);\n",
              "    }\n",
              "  }\n",
              "</style>\n",
              "\n",
              "  <script>\n",
              "    async function quickchart(key) {\n",
              "      const quickchartButtonEl =\n",
              "        document.querySelector('#' + key + ' button');\n",
              "      quickchartButtonEl.disabled = true;  // To prevent multiple clicks.\n",
              "      quickchartButtonEl.classList.add('colab-df-spinner');\n",
              "      try {\n",
              "        const charts = await google.colab.kernel.invokeFunction(\n",
              "            'suggestCharts', [key], {});\n",
              "      } catch (error) {\n",
              "        console.error('Error during call to suggestCharts:', error);\n",
              "      }\n",
              "      quickchartButtonEl.classList.remove('colab-df-spinner');\n",
              "      quickchartButtonEl.classList.add('colab-df-quickchart-complete');\n",
              "    }\n",
              "    (() => {\n",
              "      let quickchartButtonEl =\n",
              "        document.querySelector('#df-e0e0d9da-092a-4d79-8f7f-904ac43d77a9 button');\n",
              "      quickchartButtonEl.style.display =\n",
              "        google.colab.kernel.accessAllowed ? 'block' : 'none';\n",
              "    })();\n",
              "  </script>\n",
              "</div>\n",
              "\n",
              "    </div>\n",
              "  </div>\n"
            ],
            "application/vnd.google.colaboratory.intrinsic+json": {
              "type": "dataframe",
              "variable_name": "df_reviews"
            }
          },
          "metadata": {},
          "execution_count": 31
        }
      ]
    },
    {
      "cell_type": "code",
      "source": [
        "# Extrair índices e classificações\n",
        "indices = list(range(len(df_reviews['reviewText'])))\n",
        "ratings = df_reviews['overall']"
      ],
      "metadata": {
        "id": "VD19HXspLd4z"
      },
      "execution_count": 32,
      "outputs": []
    },
    {
      "cell_type": "code",
      "source": [
        "# Instanciar o RandomUnderSampler\n",
        "sampler = RandomUnderSampler(sampling_strategy={1.0: 1500, 2.0: 500, 3.0: 500, 4.0: 500, 5.0: 1500}, random_state=42)\n",
        "\n",
        "# Seleção de amostras balanceadas\n",
        "indices_sample, ratings_sample = sampler.fit_resample(\n",
        "    np.array(indices).reshape(-1, 1), np.array(ratings).reshape(-1, 1)\n",
        ")"
      ],
      "metadata": {
        "id": "W6MyNBgHLhT4"
      },
      "execution_count": 33,
      "outputs": []
    },
    {
      "cell_type": "code",
      "source": [
        "# Recuperar os índices e reviews escolhidos no processo de amostragem, separando em dois: os dados da amostra balanceadas e os dados que sobraram.\n",
        "# As amostras balanceadas não podem fazer parte do conjunto de dados que sobraram.\n",
        "\n",
        "indices_sample = np.ndarray.flatten(indices_sample)\n",
        "indices_other = [i for i in list(range(len(df_reviews['reviewText']))) if i not in indices_sample]\n",
        "reviews_sample = [df_reviews['reviewText'][i] for i in indices_sample]\n",
        "reviews_other = [df_reviews['reviewText'][i] for i in indices_other]\n",
        "\n",
        "df_under = pd.DataFrame({\"rating\": ratings_sample, \"review\": reviews_sample})"
      ],
      "metadata": {
        "id": "iBGnaVeVLiJp"
      },
      "execution_count": 34,
      "outputs": []
    },
    {
      "cell_type": "code",
      "source": [
        "ax = df_under['rating'].value_counts().sort_index()\\\n",
        "    .plot(kind='bar',\n",
        "          title= 'Quantidade de Reviews por nota na amostra balanceada',\n",
        "          figsize = (10,5))\n",
        "\n",
        "ax.set_xlabel('Nota do Review')\n",
        "plt.show()"
      ],
      "metadata": {
        "colab": {
          "base_uri": "https://localhost:8080/",
          "height": 495
        },
        "id": "HwXX894hN_4s",
        "outputId": "8fb7c414-40f7-48da-ade6-0606d9373cf3"
      },
      "execution_count": 35,
      "outputs": [
        {
          "output_type": "display_data",
          "data": {
            "text/plain": [
              "<Figure size 1000x500 with 1 Axes>"
            ],
            "image/png": "[encoded data removed]"
          },
          "metadata": {}
        }
      ]
    },
    {
      "cell_type": "markdown",
      "source": [
        "### Amostra aleatória de Reviews\n",
        "Construindo um 'corpus' maior, com 100 mil reviews, e mais representativo;"
      ],
      "metadata": {
        "id": "T_PbCu1ALmNQ"
      }
    },
    {
      "cell_type": "code",
      "source": [
        "# Construindo um dataset mais real com 100 mil amostras aleatórias.\n",
        "big_sample = np.random.randint(len(reviews_other), size=100000)\n",
        "reviews_to_be_saved = [(reviews_other[i]) for i in big_sample]\n",
        "rating_to_be_saved = [df_reviews['overall'][i] for i in big_sample]\n",
        "\n",
        "df_100k = pd.DataFrame({\"rating\": rating_to_be_saved, \"review\": reviews_to_be_saved})"
      ],
      "metadata": {
        "id": "VOwhAcMwLl5A"
      },
      "execution_count": 36,
      "outputs": []
    },
    {
      "cell_type": "code",
      "source": [
        "ax = df_100k['rating'].value_counts().sort_index()\\\n",
        "    .plot(kind='bar',\n",
        "          title= 'Quantidade de Reviews por nota na amostra aleatória',\n",
        "          figsize = (10,5))\n",
        "\n",
        "ax.set_xlabel('Nota do Review')\n",
        "plt.show()"
      ],
      "metadata": {
        "colab": {
          "base_uri": "https://localhost:8080/",
          "height": 496
        },
        "id": "AQiNhFiEOKDZ",
        "outputId": "2ce5b0a9-45a9-4db0-d1a7-8121fdd571ce"
      },
      "execution_count": 37,
      "outputs": [
        {
          "output_type": "display_data",
          "data": {
            "text/plain": [
              "<Figure size 1000x500 with 1 Axes>"
            ],
            "image/png": "[encoded data removed]"
          },
          "metadata": {}
        }
      ]
    },
    {
      "cell_type": "markdown",
      "source": [
        "### Construindo Corpora\n",
        "\n",
        "\"Corpora\" (plural de \"corpus\") é um termo usado na linguística e na ciência da computação, especialmente na área de Processamento de Linguagem Natural (PLN). Ele se refere a uma coleção estruturada de textos ou dados linguísticos, geralmente armazenados em formato digital e usados para análise linguística, modelagem de linguagem, treinamento de algoritmos de NLP e muito mais."
      ],
      "metadata": {
        "id": "KSyk2cC-Logq"
      }
    },
    {
      "cell_type": "code",
      "source": [
        "df_under.to_csv(\"/content/small_corpus.csv\", index=False)\n",
        "df_100k.to_csv(\"/content/big_corpus.csv\", index=False)"
      ],
      "metadata": {
        "id": "Z83gQCxALvEx"
      },
      "execution_count": 38,
      "outputs": []
    }
  ]
}